{
 "cells": [
  {
   "cell_type": "markdown",
   "metadata": {},
   "source": [
    "![](https://upload.wikimedia.org/wikipedia/commons/thumb/f/f9/UBA.svg/240px-UBA.svg.png)"
   ]
  },
  {
   "cell_type": "markdown",
   "metadata": {},
   "source": [
    "<h1 style=\"text-align:center;\">Trabajo Practico Metodología de análisis en opinión pública</h1>"
   ]
  },
  {
   "cell_type": "markdown",
   "metadata": {},
   "source": [
    "<h2>Estudio realizado para \"Juntos por el cambio\", evaluacion de desempeño en las <b>Paso 2019</b></h2>"
   ]
  },
  {
   "cell_type": "markdown",
   "metadata": {},
   "source": [
    "<h4>Integrantes:</br></br><ul><li>García, Rocío</li><li>Gonzalez Dorfman, Santiago</li><li>Larrea, Josefina</li><li>Fuchs, Tomás</li></ul>"
   ]
  },
  {
   "cell_type": "markdown",
   "metadata": {},
   "source": [
    "<p>Hipotesis:</br>\n",
    "    <em>Visualizar en quantiles los datos de las elecciones realizadas el domingo 11 de Agosto para poder observar donde se dieron los peores resultados de la formula partido para visualizar donde es necesario mejorar el desempeño.</em></p> "
   ]
  },
  {
   "cell_type": "code",
   "execution_count": null,
   "metadata": {},
   "outputs": [],
   "source": []
  }
 ],
 "metadata": {
  "kernelspec": {
   "display_name": "Python 3",
   "language": "python",
   "name": "python3"
  },
  "language_info": {
   "codemirror_mode": {
    "name": "ipython",
    "version": 3
   },
   "file_extension": ".py",
   "mimetype": "text/x-python",
   "name": "python",
   "nbconvert_exporter": "python",
   "pygments_lexer": "ipython3",
   "version": "3.7.3"
  }
 },
 "nbformat": 4,
 "nbformat_minor": 2
}
